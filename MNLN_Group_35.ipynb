{
  "nbformat": 4,
  "nbformat_minor": 0,
  "metadata": {
    "colab": {
      "provenance": [],
      "authorship_tag": "ABX9TyNxzdBko7rD38f/hl1Wsb2I",
      "include_colab_link": true
    },
    "kernelspec": {
      "name": "python3",
      "display_name": "Python 3"
    },
    "language_info": {
      "name": "python"
    },
    "accelerator": "GPU",
    "gpuClass": "standard"
  },
  "cells": [
    {
      "cell_type": "markdown",
      "metadata": {
        "id": "view-in-github",
        "colab_type": "text"
      },
      "source": [
        "<a href=\"https://colab.research.google.com/github/ss22afk/Machinelearning/blob/main/MNLN_Group_35.ipynb\" target=\"_parent\"><img src=\"https://colab.research.google.com/assets/colab-badge.svg\" alt=\"Open In Colab\"/></a>"
      ]
    },
    {
      "cell_type": "code",
      "execution_count": 2,
      "metadata": {
        "id": "OlpGV_tqP4FS"
      },
      "outputs": [],
      "source": [
        "# Import packages\n",
        "import pandas as pd\n",
        "import tensorflow as tf\n",
        "import numpy as np\n",
        "import matplotlib.pyplot as plt\n",
        "import tensorflow.keras as keras\n",
        "from tensorflow.keras.preprocessing.image import ImageDataGenerator\n",
        "from sklearn.model_selection import train_test_split\n",
        "from keras.models import *\n",
        "from keras.layers import *"
      ]
    },
    {
      "cell_type": "code",
      "source": [
        "def createImagePlotting(dataFlowDirectory):\n",
        "  for i in range(10):\n",
        "    plt.subplot(2,5,i+1)\n",
        "    batch = dataFlowDirectory.next()\n",
        "    image = batch[0].astype('uint8')\n",
        "    image = np.reshape(256, 256, 3)\n",
        "    plt.imshow(image)\n",
        "  plt.show()"
      ],
      "metadata": {
        "id": "8kd799msk23-"
      },
      "execution_count": 3,
      "outputs": []
    },
    {
      "cell_type": "code",
      "source": [
        "# mount google drive for load dataset\n",
        "from google.colab import drive\n",
        "drive.mount('/content/drive')"
      ],
      "metadata": {
        "id": "CDB5gCtlQKQc",
        "colab": {
          "base_uri": "https://localhost:8080/"
        },
        "outputId": "b4157064-d7b9-46ca-b04f-c23d2b73756f"
      },
      "execution_count": 4,
      "outputs": [
        {
          "output_type": "stream",
          "name": "stdout",
          "text": [
            "Mounted at /content/drive\n"
          ]
        }
      ]
    },
    {
      "cell_type": "code",
      "source": [
        "#  rescale all images for training and validation dataset with the rescale parameter\n",
        "train_galaxy_imge_generate = ImageDataGenerator(rescale=1./255,\n",
        "        shear_range = 0.2,\n",
        "        zoom_range = 0.2,\n",
        "        horizontal_flip = True)\n",
        "valid_galaxy_imge_generate = ImageDataGenerator(rescale = 1./255)"
      ],
      "metadata": {
        "id": "EdHiOz1ub7rC"
      },
      "execution_count": 5,
      "outputs": []
    },
    {
      "cell_type": "code",
      "source": [
        "# Defining training and validation directory path.\n",
        "train_dir = '/content/drive/MyDrive/Group_Project_Data 2/Group_Project_Data/Train' # Path for training directory\n",
        "valid_dir = '/content/drive/MyDrive/Group_Project_Data 2/Group_Project_Data/Valid' # Path for validation directory\n",
        "\n",
        "# create a generator for training and validation data using flow_from_directory with batch_size, target_size, class_mode\n",
        "train_galaxy_img = train_galaxy_imge_generate.flow_from_directory(train_dir, target_size=(224, 224), batch_size = 32, class_mode = 'binary')\n",
        "valid_galaxy_img  = valid_galaxy_imge_generate.flow_from_directory(valid_dir, target_size=(224, 224), batch_size = 32, class_mode = 'binary')"
      ],
      "metadata": {
        "id": "bIlRACkEjZ7l",
        "colab": {
          "base_uri": "https://localhost:8080/"
        },
        "outputId": "8e42d8ce-1570-4f52-f0db-24948a76700c"
      },
      "execution_count": 10,
      "outputs": [
        {
          "output_type": "stream",
          "name": "stdout",
          "text": [
            "Found 6028 images belonging to 2 classes.\n",
            "Found 2010 images belonging to 2 classes.\n"
          ]
        }
      ]
    },
    {
      "cell_type": "code",
      "source": [
        "print('Class indications from Train: ',train_galaxy_img.class_indices)\n",
        "print('Class indications from Validation: ',valid_galaxy_img.class_indices)"
      ],
      "metadata": {
        "colab": {
          "base_uri": "https://localhost:8080/"
        },
        "id": "eG8QmUJ_6Lbo",
        "outputId": "992aad03-1cdf-481c-bb58-255ee904b278"
      },
      "execution_count": 9,
      "outputs": [
        {
          "output_type": "stream",
          "name": "stdout",
          "text": [
            "Class indications from Train:  {'Fake': 0, 'Real': 1}\n",
            "Class indications from Validation:  {'Fake': 0, 'Real': 1}\n"
          ]
        }
      ]
    },
    {
      "cell_type": "code",
      "source": [
        "#CNN based Sequencial model\n",
        "sq_model = Sequential()\n",
        "sq_model.add(Conv2D(32, kernel_size=(3,3), activation='relu', input_shape=(224, 224, 3)))\n",
        "sq_model.add(Conv2D(64, (3,3), activation='relu'))\n",
        "sq_model.add(MaxPooling2D(pool_size=(2, 2)))\n",
        "sq_model.add(Dropout(0.25))\n",
        "\n",
        "sq_model.add(Conv2D(64, (3,3), activation='relu'))\n",
        "sq_model.add(MaxPooling2D(pool_size=(2, 2)))\n",
        "sq_model.add(Dropout(0.25))\n",
        "\n",
        "sq_model.add(Conv2D(128, (3,3), activation='relu'))\n",
        "sq_model.add(MaxPooling2D(pool_size=(2, 2)))\n",
        "sq_model.add(Dropout(0.25))\n",
        "\n",
        "sq_model.add(Flatten())\n",
        "sq_model.add(Dense(64, activation='relu'))\n",
        "sq_model.add(Dropout(0.5))\n",
        "sq_model.add(Dense(1, activation='sigmoid'))\n",
        "\n",
        "sq_model.compile(loss= keras.losses.binary_crossentropy, optimizer='adam', metrics=['accuracy'])\n",
        "sq_model.summary()\n"
      ],
      "metadata": {
        "colab": {
          "base_uri": "https://localhost:8080/"
        },
        "id": "XA9lqkk25mG2",
        "outputId": "25a59274-359e-4de8-fd7c-f30bdc879b09"
      },
      "execution_count": 8,
      "outputs": [
        {
          "output_type": "stream",
          "name": "stdout",
          "text": [
            "Model: \"sequential_1\"\n",
            "_________________________________________________________________\n",
            " Layer (type)                Output Shape              Param #   \n",
            "=================================================================\n",
            " conv2d_4 (Conv2D)           (None, 222, 222, 32)      896       \n",
            "                                                                 \n",
            " conv2d_5 (Conv2D)           (None, 220, 220, 64)      18496     \n",
            "                                                                 \n",
            " max_pooling2d_3 (MaxPooling  (None, 110, 110, 64)     0         \n",
            " 2D)                                                             \n",
            "                                                                 \n",
            " dropout_4 (Dropout)         (None, 110, 110, 64)      0         \n",
            "                                                                 \n",
            " conv2d_6 (Conv2D)           (None, 108, 108, 64)      36928     \n",
            "                                                                 \n",
            " max_pooling2d_4 (MaxPooling  (None, 54, 54, 64)       0         \n",
            " 2D)                                                             \n",
            "                                                                 \n",
            " dropout_5 (Dropout)         (None, 54, 54, 64)        0         \n",
            "                                                                 \n",
            " conv2d_7 (Conv2D)           (None, 52, 52, 128)       73856     \n",
            "                                                                 \n",
            " max_pooling2d_5 (MaxPooling  (None, 26, 26, 128)      0         \n",
            " 2D)                                                             \n",
            "                                                                 \n",
            " dropout_6 (Dropout)         (None, 26, 26, 128)       0         \n",
            "                                                                 \n",
            " flatten_1 (Flatten)         (None, 86528)             0         \n",
            "                                                                 \n",
            " dense_2 (Dense)             (None, 64)                5537856   \n",
            "                                                                 \n",
            " dropout_7 (Dropout)         (None, 64)                0         \n",
            "                                                                 \n",
            " dense_3 (Dense)             (None, 1)                 65        \n",
            "                                                                 \n",
            "=================================================================\n",
            "Total params: 5,668,097\n",
            "Trainable params: 5,668,097\n",
            "Non-trainable params: 0\n",
            "_________________________________________________________________\n"
          ]
        }
      ]
    },
    {
      "cell_type": "code",
      "source": [],
      "metadata": {
        "id": "qWuglZms7f_m"
      },
      "execution_count": null,
      "outputs": []
    }
  ]
}